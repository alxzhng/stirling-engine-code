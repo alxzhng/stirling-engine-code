{
 "cells": [
  {
   "cell_type": "markdown",
   "id": "1479d21b",
   "metadata": {},
   "source": [
    "# UCL MechEng Stirling Engine Lab (Python Part)\n",
    "\n",
    "For information on usage, visit https://github.com/alxzhng/stirling-engine-code."
   ]
  },
  {
   "cell_type": "markdown",
   "id": "33b1355d",
   "metadata": {},
   "source": [
    "## Settings\n",
    "You can edit the values of the variables here to change the settings. \n",
    "\n",
    "Check that the port name 'arduinoPort' matches with what is shown in the Arduino IDE. This is usually 'COMX', where X is a number, and is case sensitive.\n",
    "\n",
    "The baud rate should be the same as that which was chosen in the Arduino code. This has been set to 9600 by default. Supported baud rates are: 300, 600, 750, 1200, 2400, 4800, 9600, 19200, 31250, 38400, 57600, ... bauds. Increasing the baud also increases the amount of data you get, and the file size! In this particular example, a baud rate of 9600 produces around 30k readings in 10 minutes.\n",
    "\n",
    "Change the file name to what you want the .csv file to be saved as. The file is saved in the data folder."
   ]
  },
  {
   "cell_type": "code",
   "execution_count": 1,
   "id": "eaa71653",
   "metadata": {},
   "outputs": [
    {
     "name": "stdout",
     "output_type": "stream",
     "text": [
      "Connected to Arduino on port: COM6, and writing to path: stirling-engine-code/data/file_name.csv\n"
     ]
    }
   ],
   "source": [
    "# Port name\n",
    "arduinoPort = \"COM6\"\n",
    "\n",
    "# Baud rate\n",
    "baud = 9600\n",
    "\n",
    "# File name\n",
    "fileName = \"file_name.csv\" \n",
    "\n",
    "# Print confirmation\n",
    "print(\"Connected to Arduino on port: {}, and writing to path: stirling-engine-code/data/{}\".format(arduinoPort, fileName))"
   ]
  },
  {
   "cell_type": "markdown",
   "id": "43aed35f",
   "metadata": {},
   "source": [
    "## Main Code\n",
    "Do not change anything here! This is the main code that reads in the serial data from Arduino and formats and saves it to .csv.\n",
    "\n",
    "Only run this chunk after the Arduino code has been uploaded to the board, or the board containing the code has been reset. Otherwise, there will be an error."
   ]
  },
  {
   "cell_type": "code",
   "execution_count": 2,
   "id": "43816b5b",
   "metadata": {},
   "outputs": [
    {
     "name": "stdout",
     "output_type": "stream",
     "text": [
      "Press button to start taking measurements.\n",
      "3...\n",
      "2...\n",
      "1...\n",
      "Writing data. Press button again to terminate.\n",
      "Done taking measurements.\n",
      "Done writing file.\n"
     ]
    }
   ],
   "source": [
    "# Import packages\n",
    "import serial\n",
    "import time\n",
    "import csv\n",
    "\n",
    "# Get full relative file path\n",
    "fileName = \"../data/\" + fileName\n",
    "\n",
    "# Connect to serial and clear buffer\n",
    "ser = serial.Serial(port=arduinoPort, baudrate=baud, timeout=0.1)\n",
    "ser.flushInput()\n",
    "\n",
    "# Create .csv file and put in headers\n",
    "headers = ['time_ms','tPin1_v','tPin2_v','trigger']    # time in (ms), temp 1 and temp 2 in (degC)\n",
    "with open(fileName, \"w\", newline='') as file:\n",
    "    writer = csv.writer(file, delimiter=\",\")\n",
    "    writer.writerow(headers)\n",
    "\n",
    "# Read and save data as csv\n",
    "while True:\n",
    "    if ser.in_waiting > 0: # there is something printed to serial \n",
    "        line = ser.readline().decode('utf-8', errors='replace').rstrip()\n",
    "        try: \n",
    "            vals = line.split(\",\")\n",
    "            for val in vals:\n",
    "                val = float(val)\n",
    "            with open(fileName, \"a\", newline='') as file:\n",
    "                writer = csv.writer(file, delimiter=',')\n",
    "                writer.writerow(vals)\n",
    "        except:\n",
    "            print(line)\n",
    "            if line == \"Done taking measurements.\":\n",
    "                print(\"Done writing file.\")\n",
    "                ser.close()\n",
    "                break\n",
    "            else:\n",
    "                continue"
   ]
  },
  {
   "cell_type": "code",
   "execution_count": null,
   "id": "073ddb11",
   "metadata": {},
   "outputs": [],
   "source": []
  }
 ],
 "metadata": {
  "kernelspec": {
   "display_name": "Python 3",
   "language": "python",
   "name": "python3"
  },
  "language_info": {
   "codemirror_mode": {
    "name": "ipython",
    "version": 3
   },
   "file_extension": ".py",
   "mimetype": "text/x-python",
   "name": "python",
   "nbconvert_exporter": "python",
   "pygments_lexer": "ipython3",
   "version": "3.10.9"
  }
 },
 "nbformat": 4,
 "nbformat_minor": 5
}
