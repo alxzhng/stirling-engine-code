{
 "cells": [
  {
   "cell_type": "markdown",
   "id": "1479d21b",
   "metadata": {},
   "source": [
    "# UCL MechEng Stirling Engine Lab (Python Part)\n",
    "\n",
    "For information on usage, visit https://github.com/alxzhng/stirling-engine-code."
   ]
  },
  {
   "cell_type": "markdown",
   "id": "33b1355d",
   "metadata": {},
   "source": [
    "## Settings\n",
    "Check that the port name matches with what is shown in the Arduino IDE. (Case sensitive)\n",
    "The baud rate should be the same as that which was chosen in the Arduino code. \n",
    "Change the file name to what you want the .csv file to be saved as."
   ]
  },
  {
   "cell_type": "code",
   "execution_count": null,
   "id": "eaa71653",
   "metadata": {},
   "outputs": [],
   "source": [
    "# Settings\n",
    "arduinoPort = \"COM6\"\n",
    "fileName = \"file_name.csv\" \n",
    "\n",
    "print(\"Connected to Arduino on port: {}, and writing to path: stirling-engine-code/src/{}\".format(arduinoPort, fileName))"
   ]
  },
  {
   "cell_type": "markdown",
   "id": "43aed35f",
   "metadata": {},
   "source": [
    "## Run\n",
    "Only run this chunk after the Arduino code has been uploaded to the board, or the board containing the code has been reset. Otherwise, there will be an error"
   ]
  },
  {
   "cell_type": "code",
   "execution_count": null,
   "id": "43816b5b",
   "metadata": {},
   "outputs": [],
   "source": [
    "# Import packages\n",
    "import serial\n",
    "import time\n",
    "import csv\n",
    "\n",
    "# Set baud rate \n",
    "baud = 74880\n",
    "\n",
    "# Connect to serial and clear buffer\n",
    "ser = serial.Serial(port=arduinoPort, baudrate=baud, timeout=0.1)\n",
    "ser.flushInput()\n",
    "\n",
    "# Create .csv file and put in headers\n",
    "headers = ['time','temp_1','temp_2','trigger']    # time in (ms), temp 1 and temp 2 in (degC)\n",
    "with open(fileName, \"w\", newline='') as file:\n",
    "    writer = csv.writer(file, delimiter=\",\")\n",
    "    writer.writerow(headers)\n",
    "\n",
    "# Read and save data as csv\n",
    "while True:\n",
    "    if ser.in_waiting > 0: # there is something printed to serial \n",
    "        line = ser.readline().decode('utf-8', errors='replace').rstrip()\n",
    "        try: \n",
    "            vals = line.split(\",\")\n",
    "            for val in vals:\n",
    "                val = float(val)\n",
    "            with open(fileName, \"a\", newline='') as file:\n",
    "                writer = csv.writer(file, delimiter=',')\n",
    "                writer.writerow(vals)\n",
    "        except:\n",
    "            print(line)\n",
    "            if line == \"Done taking measurements.\":\n",
    "                print(\"Done writing file.\")\n",
    "                ser.close()\n",
    "                break\n",
    "            else:\n",
    "                continue"
   ]
  }
 ],
 "metadata": {
  "kernelspec": {
   "display_name": "Python 3",
   "language": "python",
   "name": "python3"
  },
  "language_info": {
   "codemirror_mode": {
    "name": "ipython",
    "version": 3
   },
   "file_extension": ".py",
   "mimetype": "text/x-python",
   "name": "python",
   "nbconvert_exporter": "python",
   "pygments_lexer": "ipython3",
   "version": "3.8.8"
  }
 },
 "nbformat": 4,
 "nbformat_minor": 5
}
